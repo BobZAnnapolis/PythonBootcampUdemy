{
 "cells": [
  {
   "cell_type": "code",
   "execution_count": 1,
   "metadata": {
    "collapsed": true
   },
   "outputs": [],
   "source": [
    "#\n",
    "# FILES\n",
    "#"
   ]
  },
  {
   "cell_type": "code",
   "execution_count": 4,
   "metadata": {},
   "outputs": [],
   "source": [
    "#\n",
    "# Python uses file objects to interact with external files on your computer. These file objects\n",
    "# can be any sort of file you have on your computer, whether it be an audio file, a text file,\n",
    "# emails, Excel docs, etc. Note : You will probably need to install certain libraries or modules\n",
    "# to interact with some of those various file types, but they are easily downloadable. \n",
    "#\n",
    "# Python has a built-in open function that allows us to open and play with basic file types.\n",
    "#"
   ]
  },
  {
   "cell_type": "code",
   "execution_count": 3,
   "metadata": {},
   "outputs": [
    {
     "data": {
      "text/plain": [
       "u'/Users/bobzawislak/dev/pythonbootcampudemy/Complete-Python-Bootcamp-master'"
      ]
     },
     "execution_count": 3,
     "metadata": {},
     "output_type": "execute_result"
    }
   ],
   "source": [
    "pwd"
   ]
  },
  {
   "cell_type": "code",
   "execution_count": 5,
   "metadata": {
    "collapsed": true
   },
   "outputs": [],
   "source": [
    "#\n",
    "# create a file in the above folder location\n",
    "#        or use one in a known location\n",
    "#        specify the path in the open command - defaults to current dir the Jupyter server was started in\n",
    "#\n",
    "f = open('../notes')"
   ]
  },
  {
   "cell_type": "code",
   "execution_count": 6,
   "metadata": {},
   "outputs": [
    {
     "data": {
      "text/plain": [
       "\"\\nJupiter notebooks available online at : http://nbviewer.jupyter.org/github/jmportilla/Complete-Python-Bootcamp/tree/master/\\n\\nto install stuff outside of a virtualenv :\\n   - from the command line : \\n      > export PIP_REQUIRE_VIRTUALENV=false\\n      > pip install --upgrade pip\\n      > pip install jupyter\\n\\nto run jupyter server and have notebooks appear in a browser\\n     > jupyter notebook {from root dir where above notebooks installed}\\n\\nin a browser, type 'manual jupyter notebook' to get to the user manual\\n\\nResources\\n=========\\nstackoverflow.org - questions\\nwww.python.org/doc/ - python language manuals\\n\\n\\n\""
      ]
     },
     "execution_count": 6,
     "metadata": {},
     "output_type": "execute_result"
    }
   ],
   "source": [
    "#\n",
    "# f.read will read the entire contents of the open file\n",
    "#\n",
    "f.read()"
   ]
  },
  {
   "cell_type": "code",
   "execution_count": 7,
   "metadata": {},
   "outputs": [
    {
     "data": {
      "text/plain": [
       "''"
      ]
     },
     "execution_count": 7,
     "metadata": {},
     "output_type": "execute_result"
    }
   ],
   "source": [
    "#\n",
    "# atempting another f.read will yield an empty result - while the f object is open, language \n",
    "# keeps a current cursor of whathas been read - since we already read the entire file - another \n",
    "# read yields nothing\n",
    "#\n",
    "f.read()"
   ]
  },
  {
   "cell_type": "code",
   "execution_count": 8,
   "metadata": {},
   "outputs": [
    {
     "data": {
      "text/plain": [
       "\"\\nJupiter notebooks available online at : http://nbviewer.jupyter.org/github/jmportilla/Complete-Python-Bootcamp/tree/master/\\n\\nto install stuff outside of a virtualenv :\\n   - from the command line : \\n      > export PIP_REQUIRE_VIRTUALENV=false\\n      > pip install --upgrade pip\\n      > pip install jupyter\\n\\nto run jupyter server and have notebooks appear in a browser\\n     > jupyter notebook {from root dir where above notebooks installed}\\n\\nin a browser, type 'manual jupyter notebook' to get to the user manual\\n\\nResources\\n=========\\nstackoverflow.org - questions\\nwww.python.org/doc/ - python language manuals\\n\\n\\n\""
      ]
     },
     "execution_count": 8,
     "metadata": {},
     "output_type": "execute_result"
    }
   ],
   "source": [
    "#\n",
    "# to reset the cursor to the beginning - use seek(0)\n",
    "#\n",
    "f.seek(0)\n",
    "f.read()"
   ]
  },
  {
   "cell_type": "code",
   "execution_count": 9,
   "metadata": {
    "collapsed": true
   },
   "outputs": [],
   "source": [
    "f.seek(0)"
   ]
  },
  {
   "cell_type": "code",
   "execution_count": 10,
   "metadata": {},
   "outputs": [
    {
     "data": {
      "text/plain": [
       "['\\n',\n",
       " 'Jupiter notebooks available online at : http://nbviewer.jupyter.org/github/jmportilla/Complete-Python-Bootcamp/tree/master/\\n',\n",
       " '\\n',\n",
       " 'to install stuff outside of a virtualenv :\\n',\n",
       " '   - from the command line : \\n',\n",
       " '      > export PIP_REQUIRE_VIRTUALENV=false\\n',\n",
       " '      > pip install --upgrade pip\\n',\n",
       " '      > pip install jupyter\\n',\n",
       " '\\n',\n",
       " 'to run jupyter server and have notebooks appear in a browser\\n',\n",
       " '     > jupyter notebook {from root dir where above notebooks installed}\\n',\n",
       " '\\n',\n",
       " \"in a browser, type 'manual jupyter notebook' to get to the user manual\\n\",\n",
       " '\\n',\n",
       " 'Resources\\n',\n",
       " '=========\\n',\n",
       " 'stackoverflow.org - questions\\n',\n",
       " 'www.python.org/doc/ - python language manuals\\n',\n",
       " '\\n',\n",
       " '\\n']"
      ]
     },
     "execution_count": 10,
     "metadata": {},
     "output_type": "execute_result"
    }
   ],
   "source": [
    "#\n",
    "# another function is readlines - readds 1 line at a time and returns each line\n",
    "# as a list of charcters\n",
    "#\n",
    "f.readlines()"
   ]
  },
  {
   "cell_type": "code",
   "execution_count": 11,
   "metadata": {},
   "outputs": [
    {
     "data": {
      "text/plain": [
       "['\\n',\n",
       " 'Jupiter notebooks available online at : http://nbviewer.jupyter.org/github/jmportilla/Complete-Python-Bootcamp/tree/master/\\n',\n",
       " '\\n',\n",
       " 'to install stuff outside of a virtualenv :\\n',\n",
       " '   - from the command line : \\n',\n",
       " '      > export PIP_REQUIRE_VIRTUALENV=false\\n',\n",
       " '      > pip install --upgrade pip\\n',\n",
       " '      > pip install jupyter\\n',\n",
       " '\\n',\n",
       " 'to run jupyter server and have notebooks appear in a browser\\n',\n",
       " '     > jupyter notebook {from root dir where above notebooks installed}\\n',\n",
       " '\\n',\n",
       " \"in a browser, type 'manual jupyter notebook' to get to the user manual\\n\",\n",
       " '\\n',\n",
       " 'Resources\\n',\n",
       " '=========\\n',\n",
       " 'stackoverflow.org - questions\\n',\n",
       " 'www.python.org/doc/ - python language manuals\\n',\n",
       " '\\n',\n",
       " '\\n']"
      ]
     },
     "execution_count": 11,
     "metadata": {},
     "output_type": "execute_result"
    }
   ],
   "source": [
    "f.seek(0)\n",
    "f.readlines(1)"
   ]
  },
  {
   "cell_type": "code",
   "execution_count": 12,
   "metadata": {
    "collapsed": true
   },
   "outputs": [],
   "source": [
    "f.seek(0)"
   ]
  },
  {
   "cell_type": "code",
   "execution_count": 16,
   "metadata": {},
   "outputs": [],
   "source": [
    "#\n",
    "# Jupyter notebook has 'magic' functions\n",
    "#\n",
    "# 1 of them is the ability to create new files using %%writefile\n",
    "#"
   ]
  },
  {
   "cell_type": "code",
   "execution_count": 17,
   "metadata": {},
   "outputs": [
    {
     "name": "stdout",
     "output_type": "stream",
     "text": [
      "Writing new.txt\n"
     ]
    }
   ],
   "source": [
    "%%writefile new.txt\n",
    "First line\n",
    "Second line"
   ]
  },
  {
   "cell_type": "code",
   "execution_count": 18,
   "metadata": {},
   "outputs": [
    {
     "name": "stdout",
     "output_type": "stream",
     "text": [
      "First line\n",
      "\n",
      "Second line\n"
     ]
    }
   ],
   "source": [
    "#\n",
    "# iterate thru the text file\n",
    "#\n",
    "for line in open('new.txt'):\n",
    "    print line"
   ]
  }
 ],
 "metadata": {
  "kernelspec": {
   "display_name": "Python 2",
   "language": "python",
   "name": "python2"
  },
  "language_info": {
   "codemirror_mode": {
    "name": "ipython",
    "version": 2
   },
   "file_extension": ".py",
   "mimetype": "text/x-python",
   "name": "python",
   "nbconvert_exporter": "python",
   "pygments_lexer": "ipython2",
   "version": "2.7.10"
  }
 },
 "nbformat": 4,
 "nbformat_minor": 2
}
