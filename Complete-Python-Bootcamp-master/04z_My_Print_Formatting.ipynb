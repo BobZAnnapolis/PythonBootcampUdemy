{
 "cells": [
  {
   "cell_type": "code",
   "execution_count": 1,
   "metadata": {
    "collapsed": true
   },
   "outputs": [],
   "source": [
    "# PRINT FORMATTING"
   ]
  },
  {
   "cell_type": "code",
   "execution_count": 2,
   "metadata": {},
   "outputs": [
    {
     "name": "stdout",
     "output_type": "stream",
     "text": [
      "This is a string\n"
     ]
    }
   ],
   "source": [
    "print 'This is a string'"
   ]
  },
  {
   "cell_type": "code",
   "execution_count": 3,
   "metadata": {},
   "outputs": [
    {
     "name": "stdout",
     "output_type": "stream",
     "text": [
      "Place the above variable here : String \n"
     ]
    }
   ],
   "source": [
    "x ='String'\n",
    "print 'Place the above variable here : %s ' %(x)"
   ]
  },
  {
   "cell_type": "code",
   "execution_count": 5,
   "metadata": {},
   "outputs": [
    {
     "name": "stdout",
     "output_type": "stream",
     "text": [
      "Place the above variable here : 13.13 \n"
     ]
    }
   ],
   "source": [
    "# works the same if you used a number\n",
    "x =13.13\n",
    "print 'Place the above variable here : %s ' %(x)"
   ]
  },
  {
   "cell_type": "code",
   "execution_count": 6,
   "metadata": {},
   "outputs": [
    {
     "name": "stdout",
     "output_type": "stream",
     "text": [
      "Floating point number : 13.14\n"
     ]
    }
   ],
   "source": [
    "# for floating point numbers, change the formatting string in print statement\n",
    "print 'Floating point number : %1.2f' %(13.145)"
   ]
  },
  {
   "cell_type": "code",
   "execution_count": 25,
   "metadata": {},
   "outputs": [
    {
     "name": "stdout",
     "output_type": "stream",
     "text": [
      "floating point 13.145\n",
      "floating point 13\n",
      "floating point     13.145\n"
     ]
    }
   ],
   "source": [
    "# number past the dot indicates the number of digits to show after the decimal point\n",
    "# number before the dot indicates the minimum number of digits before\n",
    "# use 1 to include the entire number\n",
    "# use additional numbers to use space formatting\n",
    "print('floating point %1.3f' %(13.145))\n",
    "print('floating point %1.0f' %(13.145))\n",
    "print('floating point %10.3f' %(13.145))"
   ]
  },
  {
   "cell_type": "code",
   "execution_count": 10,
   "metadata": {},
   "outputs": [
    {
     "name": "stdout",
     "output_type": "stream",
     "text": [
      "convert {treat} number to a string : 123\n"
     ]
    }
   ],
   "source": [
    "# print formatting options\n",
    "# %s - string - print as a string\n",
    "# %f - floating point numbers\n",
    "# %r - convert to a string\n",
    "print 'convert {treat} number to a string : %r' %(123)"
   ]
  },
  {
   "cell_type": "code",
   "execution_count": 11,
   "metadata": {},
   "outputs": [
    {
     "name": "stdout",
     "output_type": "stream",
     "text": [
      "First: hi, Second: two, Third 3\n"
     ]
    }
   ],
   "source": [
    "# to add multiple numbers, use multiple % signs\n",
    "print 'First: %s, Second: %s, Third %s' %('hi','two',3)"
   ]
  },
  {
   "cell_type": "code",
   "execution_count": 12,
   "metadata": {},
   "outputs": [
    {
     "name": "stdout",
     "output_type": "stream",
     "text": [
      "First: inserted Second inserted Third inserted\n"
     ]
    }
   ],
   "source": [
    "# another / better way is to use the FORMAT statement\n",
    "print 'First: {x} Second {x} Third {x}'.format(x='inserted')"
   ]
  },
  {
   "cell_type": "code",
   "execution_count": 14,
   "metadata": {},
   "outputs": [
    {
     "name": "stdout",
     "output_type": "stream",
     "text": [
      "First X : inserted First Y : two Second X : inserted\n"
     ]
    }
   ],
   "source": [
    "# print statement does it in order, using FORMAT w/variable names - order doesn't matter\n",
    "print 'First X : {x} First Y : {y} Second X : {x}'.format(y='two',x='inserted')"
   ]
  },
  {
   "cell_type": "code",
   "execution_count": 15,
   "metadata": {
    "collapsed": true
   },
   "outputs": [],
   "source": [
    "# using FORMAT SHOULD be the way to print vars"
   ]
  },
  {
   "cell_type": "code",
   "execution_count": 16,
   "metadata": {},
   "outputs": [
    {
     "name": "stdout",
     "output_type": "stream",
     "text": [
      "hello\n"
     ]
    }
   ],
   "source": [
    "from __future__ import print_function\n",
    "print('hello')"
   ]
  },
  {
   "cell_type": "code",
   "execution_count": 18,
   "metadata": {},
   "outputs": [
    {
     "name": "stdout",
     "output_type": "stream",
     "text": [
      "First X : INSERT\n"
     ]
    }
   ],
   "source": [
    "# this is python 3 - altho the parens worked without the  import\n",
    "print('First X : {x}'.format(x='INSERT'))"
   ]
  },
  {
   "cell_type": "code",
   "execution_count": 26,
   "metadata": {
    "collapsed": true
   },
   "outputs": [],
   "source": [
    "# END OF PRINT FORMATTING NOTEBOOK"
   ]
  },
  {
   "cell_type": "code",
   "execution_count": null,
   "metadata": {
    "collapsed": true
   },
   "outputs": [],
   "source": []
  }
 ],
 "metadata": {
  "kernelspec": {
   "display_name": "Python 2",
   "language": "python",
   "name": "python2"
  },
  "language_info": {
   "codemirror_mode": {
    "name": "ipython",
    "version": 2
   },
   "file_extension": ".py",
   "mimetype": "text/x-python",
   "name": "python",
   "nbconvert_exporter": "python",
   "pygments_lexer": "ipython2",
   "version": "2.7.10"
  }
 },
 "nbformat": 4,
 "nbformat_minor": 2
}
