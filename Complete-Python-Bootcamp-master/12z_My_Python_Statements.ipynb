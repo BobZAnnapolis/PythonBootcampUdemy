{
 "cells": [
  {
   "cell_type": "code",
   "execution_count": 1,
   "metadata": {
    "collapsed": true
   },
   "outputs": [],
   "source": [
    "#\n",
    "# Intro to Python Statements\n",
    "#"
   ]
  },
  {
   "cell_type": "code",
   "execution_count": 2,
   "metadata": {
    "collapsed": true
   },
   "outputs": [],
   "source": [
    "#\n",
    "# create a statement to represent : if a is greater than b, assign 2 to a and 4 to b\n",
    "#\n",
    "# most other languages have parens and curly brackets conducting the operations, eg\n",
    "#      if (a>b) {\n",
    "#          a = 2;\n",
    "#          b = 4;\n",
    "#      }\n",
    "#\n",
    "# in Python, would look like this : \n",
    "a = 1\n",
    "b = 2\n",
    "if a > b:\n",
    "    a = 2\n",
    "    b = 4"
   ]
  },
  {
   "cell_type": "code",
   "execution_count": 3,
   "metadata": {
    "collapsed": true
   },
   "outputs": [],
   "source": [
    "#\n",
    "# Python gets rid of parens and braces\n",
    "#\n",
    "# WHITE SPACE is EXTREMELY important\n",
    "#     code indentation determines code readability\n",
    "# python does not require semi-colons to end a line\n",
    "#\n",
    "# end of intro to python statements lessons"
   ]
  },
  {
   "cell_type": "code",
   "execution_count": null,
   "metadata": {
    "collapsed": true
   },
   "outputs": [],
   "source": []
  }
 ],
 "metadata": {
  "kernelspec": {
   "display_name": "Python 2",
   "language": "python",
   "name": "python2"
  },
  "language_info": {
   "codemirror_mode": {
    "name": "ipython",
    "version": 2
   },
   "file_extension": ".py",
   "mimetype": "text/x-python",
   "name": "python",
   "nbconvert_exporter": "python",
   "pygments_lexer": "ipython2",
   "version": "2.7.10"
  }
 },
 "nbformat": 4,
 "nbformat_minor": 2
}
